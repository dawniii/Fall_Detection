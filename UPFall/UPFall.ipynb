{
 "cells": [
  {
   "cell_type": "markdown",
   "id": "39d31d7e",
   "metadata": {},
   "source": [
    "Activity ID     Description     Duration(s)\n",
    "- 1   Falling forward using hands     10\n",
    "- 2   Falling forward using knees     10\n",
    "- 3   Falling backwards               10(文件里没有)\n",
    "- 4   Falling sidewards               10\n",
    "- 5   Falling sitting in empty chair  10\n",
    "- 6   Walking                         60\n",
    "- 7   Standing                        60\n",
    "- 8   Sitting                         60\n",
    "- 9   Picking up an object            10\n",
    "- 10  Jumping                         30\n",
    "- 11  Laying                          60\n",
    "\n",
    "\n",
    "- 活动 11 中受试者 8 的试验 2 和 3 不可用"
   ]
  },
  {
   "cell_type": "code",
   "execution_count": 11,
   "id": "84ba63bc",
   "metadata": {},
   "outputs": [
    {
     "name": "stdout",
     "output_type": "stream",
     "text": [
      "E:/Fall_Deteticon/UPFall/data/S01_A06_T01.csv\n",
      "E:/Fall_Deteticon/UPFall/data/S01_A01_T01.csv\n",
      "E:/Fall_Deteticon/UPFall/data/S01_A07_T01.csv\n",
      "E:/Fall_Deteticon/UPFall/data/S01_A02_T01.csv\n",
      "E:/Fall_Deteticon/UPFall/data/S01_A09_T01.csv\n",
      "E:/Fall_Deteticon/UPFall/data/S01_A10_T01.csv\n",
      "E:/Fall_Deteticon/UPFall/data/S01_A04_T01.csv\n",
      "E:/Fall_Deteticon/UPFall/data/S01_A06_T02.csv\n",
      "E:/Fall_Deteticon/UPFall/data/S01_A01_T02.csv\n",
      "E:/Fall_Deteticon/UPFall/data/S01_A07_T02.csv\n",
      "E:/Fall_Deteticon/UPFall/data/S01_A02_T02.csv\n",
      "E:/Fall_Deteticon/UPFall/data/S01_A09_T02.csv\n",
      "E:/Fall_Deteticon/UPFall/data/S01_A10_T02.csv\n",
      "E:/Fall_Deteticon/UPFall/data/S01_A04_T02.csv\n",
      "E:/Fall_Deteticon/UPFall/data/S01_A06_T03.csv\n",
      "E:/Fall_Deteticon/UPFall/data/S01_A01_T03.csv\n",
      "E:/Fall_Deteticon/UPFall/data/S01_A07_T03.csv\n",
      "E:/Fall_Deteticon/UPFall/data/S01_A02_T03.csv\n",
      "E:/Fall_Deteticon/UPFall/data/S01_A09_T03.csv\n",
      "E:/Fall_Deteticon/UPFall/data/S01_A10_T03.csv\n",
      "E:/Fall_Deteticon/UPFall/data/S01_A04_T03.csv\n"
     ]
    },
    {
     "name": "stderr",
     "output_type": "stream",
     "text": [
      "C:\\Users\\Lenovo\\anaconda3\\lib\\site-packages\\IPython\\core\\interactiveshell.py:3444: FutureWarning: The error_bad_lines argument has been deprecated and will be removed in a future version.\n",
      "\n",
      "\n",
      "  exec(code_obj, self.user_global_ns, self.user_ns)\n"
     ]
    }
   ],
   "source": [
    "# 对subject1的数据进行拼接\n",
    "import numpy as np\n",
    "import pandas as pd\n",
    "\"\"\"\n",
    "S01_A06_T01->S01_A01_T01->S01_A07_T01->S01_A02_T01->S01_A09_T01->S01_A10_T01->S01_A04_T01\n",
    "S01_A06_T02->S01_A01_T02->S01_A07_T02->S01_A02_T02->S01_A09_T02->S01_A10_T02->S01_A04_T02\n",
    "S01_A06_T03->S01_A01_T03->S01_A07_T01->S01_A02_T03->S01_A09_T03->S01_A10_T03->S01_A04_T03\n",
    "\"\"\"\n",
    "activity=[6,1,7,2,9,10,4]\n",
    "trial=[1,2,3]\n",
    "is_fall=[0,1,0,1,0,0,1]\n",
    "parent_dir='E:/Fall_Deteticon/UPFall/data/'\n",
    "for t in range(3):\n",
    "    for a in range(7):\n",
    "        child_dir='S01_'+'A'+'%02d'%activity[a]+'_T0'+str(t+1)\n",
    "        f=parent_dir+child_dir+'.csv'\n",
    "        dk=pd.read_csv(f,error_bad_lines=False,header=None,skiprows=2)\n",
    "        #'BELT_ACC_X', 'BELT_ACC_Y', 'BELT_ACC_Z', 'BELT_ANG_X', 'BELT_ANG_Y', 'BELT_ANG_Z'\n",
    "        print(f)"
   ]
  }
 ],
 "metadata": {
  "kernelspec": {
   "display_name": "Python 3 (ipykernel)",
   "language": "python",
   "name": "python3"
  },
  "language_info": {
   "codemirror_mode": {
    "name": "ipython",
    "version": 3
   },
   "file_extension": ".py",
   "mimetype": "text/x-python",
   "name": "python",
   "nbconvert_exporter": "python",
   "pygments_lexer": "ipython3",
   "version": "3.9.7"
  }
 },
 "nbformat": 4,
 "nbformat_minor": 5
}
