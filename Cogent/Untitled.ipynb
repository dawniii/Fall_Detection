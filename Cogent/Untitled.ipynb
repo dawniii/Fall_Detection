{
 "cells": [
  {
   "cell_type": "code",
   "execution_count": 7,
   "id": "8e269fe6",
   "metadata": {},
   "outputs": [],
   "source": [
    "import numpy as np\n",
    "import pandas as pd\n",
    "import matplotlib.pyplot as plt\n",
    "import tensorflow as tf\n",
    "from scipy.stats import stats\n",
    "from sklearn.model_selection import train_test_split\n",
    "from tcn import TCN, tcn_full_summary\n",
    "from tensorflow.keras.layers import Dense\n",
    "from tensorflow.keras.models import Sequential\n",
    "from sklearn.metrics import confusion_matrix, ConfusionMatrixDisplay\n",
    "import seaborn as sns\n",
    "from sklearn.preprocessing import MinMaxScaler\n",
    "import glob,os\n",
    "# gpu = tf.config.experimental.list_physical_devices(device_type='GPU')\n",
    "# tf.config.experimental.set_memory_growth(gpu[0], True)\n",
    "from sklearn.model_selection import KFold"
   ]
  },
  {
   "cell_type": "code",
   "execution_count": 3,
   "id": "aefff629",
   "metadata": {},
   "outputs": [],
   "source": [
    "TIME_STEPS=1\n",
    "FEATURES =6\n",
    "RANDOM_SEED = 42\n",
    "step=1\n",
    "segments=[]\n",
    "\n",
    "labels=[]\n",
    "labels_number=[]"
   ]
  },
  {
   "cell_type": "code",
   "execution_count": 5,
   "id": "37cc4653",
   "metadata": {},
   "outputs": [
    {
     "name": "stdout",
     "output_type": "stream",
     "text": [
      "2358 3039 1.4863 2867\n",
      "10889 11420 5.847 11374\n"
     ]
    },
    {
     "name": "stderr",
     "output_type": "stream",
     "text": [
      "C:\\Users\\Lenovo\\AppData\\Local\\Temp/ipykernel_12028/2072058878.py:28: SettingWithCopyWarning: \n",
      "A value is trying to be set on a copy of a slice from a DataFrame\n",
      "\n",
      "See the caveats in the documentation: https://pandas.pydata.org/pandas-docs/stable/user_guide/indexing.html#returning-a-view-versus-a-copy\n",
      "  df['annotation_1'][j] = 0.0\n",
      "C:\\Users\\Lenovo\\AppData\\Local\\Temp/ipykernel_12028/2072058878.py:32: SettingWithCopyWarning: \n",
      "A value is trying to be set on a copy of a slice from a DataFrame\n",
      "\n",
      "See the caveats in the documentation: https://pandas.pydata.org/pandas-docs/stable/user_guide/indexing.html#returning-a-view-versus-a-copy\n",
      "  df['annotation_1'][k] = 0.0\n"
     ]
    },
    {
     "name": "stdout",
     "output_type": "stream",
     "text": [
      "28535 29347 5.8525 28964\n",
      "53883 55063 2.97 54438\n",
      "61650 62290 3.5137 62179\n",
      "69125 71066 2.194 69799\n",
      "80528 81469 5.0656 81112\n",
      "88904 89643 2.8006 89312\n",
      "100677 101441 5.6612 101187\n",
      "116277 116886 3.6612 116743\n",
      "141158 141711 5.8552 141642\n",
      "147747 148450 2.2049 148173\n",
      "153680 154856 2.1639 154260\n",
      "159777 160647 5.8552 160396\n"
     ]
    },
    {
     "name": "stderr",
     "output_type": "stream",
     "text": [
      "C:\\Users\\Lenovo\\anaconda3\\lib\\site-packages\\sklearn\\base.py:450: UserWarning: X does not have valid feature names, but MinMaxScaler was fitted with feature names\n",
      "  warnings.warn(\n"
     ]
    }
   ],
   "source": [
    "filepath=\"E:/Fall_Detection/Cogent/data/falls/subject_1\"\n",
    "df = pd.read_csv(filepath)\n",
    "#df['annotation_1'] = df['annotation_1'].replace(2, 1)\n",
    "# 删除annotation_1列包含数字2的行\n",
    "df = df[~df['annotation_1'].isin([2])]\n",
    "#调整df的标号\n",
    "df.reset_index(drop=True, inplace=True)\n",
    "i = 0\n",
    "start_list=[]#统计所有跌倒的开始点\n",
    "end_list=[]#统计所有跌倒的结束\n",
    "while (i < len(df)):\n",
    "    if (df['annotation_1'][i] == 1.0):  # 一次跌倒发生的开始\n",
    "        start_fall_index = i  # 一次跌倒发生的开始点\n",
    "        end = i + 1\n",
    "        while ((0.0 in list(df['annotation_1'][start_fall_index:end])) == False):\n",
    "            i = i + 1\n",
    "            end = i\n",
    "        end_fall_index = end - 2\n",
    "        start_list.append(start_fall_index)\n",
    "        end_list.append(end_fall_index)\n",
    "        # 找到峰值所在的坐标\n",
    "        max_id = df['ch_accel_x'][start_fall_index:end_fall_index + 1].idxmax()\n",
    "        print(start_fall_index, end_fall_index, df['ch_accel_x'][start_fall_index:end_fall_index + 1].max(),\n",
    "              df['ch_accel_x'][start_fall_index:end_fall_index + 1].idxmax())  # end_fall_index 一次跌倒发生的结束点\n",
    "        # 选取峰值附近的数据，假设跌倒发生在2s内，就让max_id向左向右的100个数据注释不变。\n",
    "        j = start_fall_index\n",
    "        while (j < max_id - 50):\n",
    "            df['annotation_1'][j] = 0.0\n",
    "            j = j + 1\n",
    "        k = end_fall_index\n",
    "        while (k > max_id + 50):\n",
    "            df['annotation_1'][k] = 0.0\n",
    "            k = k - 1\n",
    "    else:\n",
    "        i = i + 1\n",
    "\n",
    "scale_columns = ['ch_accel_x','ch_accel_y','ch_accel_z','ch_gyro_x','ch_gyro_y','ch_gyro_z']\n",
    "# 归一化，映射到-1到1之间\n",
    "scaler = MinMaxScaler(feature_range=(-1, 1))\n",
    "scaler = scaler.fit(df[scale_columns])\n",
    "df.loc[:, scale_columns] = scaler.transform(df[scale_columns].to_numpy())\n",
    "for i in range (0,len(df)-TIME_STEPS,step):\n",
    "    x = df['ch_accel_x'].values[i:i + TIME_STEPS].reshape(-1, 1)\n",
    "    y = df['ch_accel_y'].values[i:i + TIME_STEPS].reshape(-1, 1)\n",
    "    z = df['ch_accel_z'].values[i:i + TIME_STEPS].reshape(-1, 1)\n",
    "    xs = df['ch_gyro_x'].values[i:i + TIME_STEPS].reshape(-1, 1)\n",
    "    ys = df['ch_gyro_y'].values[i:i + TIME_STEPS].reshape(-1, 1)\n",
    "    zs = df['ch_gyro_z'].values[i:i + TIME_STEPS].reshape(-1, 1)\n",
    "    label = stats.mode(df['annotation_1'][i:i + TIME_STEPS])[0][0]  # 出现最多的类别\n",
    "    label_number = stats.mode(df['annotation_1'][i:i + TIME_STEPS])[1][0]  # 出现最多的类别的个数\n",
    "    segments.append(np.hstack((x,y,z,xs, ys, zs)))\n",
    "    labels.append(label)\n",
    "    labels_number.append(label_number)"
   ]
  },
  {
   "cell_type": "code",
   "execution_count": null,
   "id": "30074cc5",
   "metadata": {},
   "outputs": [
    {
     "data": {
      "image/png": "[encoded data removed]",
      "text/plain": [
       "<Figure size 432x288 with 1 Axes>"
      ]
     },
     "metadata": {
      "needs_background": "light"
     },
     "output_type": "display_data"
    },
    {
     "name": "stdout",
     "output_type": "stream",
     "text": [
      "-------------load the model-----------------\n",
      "WARNING:tensorflow:Inconsistent references when loading the checkpoint into this object graph. For example, in the saved checkpoint object, `model.layer.weight` and `model.layer_copy.weight` reference the same variable, while in the current object these are two different variables. The referenced variables are:(<tcn.tcn.TCN object at 0x00000260DE539FA0> and <keras.layers.core.dropout.Dropout object at 0x00000260E17BE1F0>).\n",
      "WARNING:tensorflow:Inconsistent references when loading the checkpoint into this object graph. For example, in the saved checkpoint object, `model.layer.weight` and `model.layer_copy.weight` reference the same variable, while in the current object these are two different variables. The referenced variables are:(<keras.layers.convolutional.Conv1D object at 0x00000260E22E2F40> and <keras.layers.core.activation.Activation object at 0x00000260E22E28B0>).\n",
      "WARNING:tensorflow:Inconsistent references when loading the checkpoint into this object graph. For example, in the saved checkpoint object, `model.layer.weight` and `model.layer_copy.weight` reference the same variable, while in the current object these are two different variables. The referenced variables are:(<keras.layers.convolutional.Conv1D object at 0x00000260DFEF4820> and <keras.layers.core.activation.Activation object at 0x00000260E3BAFFD0>).\n",
      "WARNING:tensorflow:Inconsistent references when loading the checkpoint into this object graph. For example, in the saved checkpoint object, `model.layer.weight` and `model.layer_copy.weight` reference the same variable, while in the current object these are two different variables. The referenced variables are:(<keras.layers.convolutional.Conv1D object at 0x00000260E3BDE250> and <keras.layers.core.activation.Activation object at 0x00000260E3BD1B80>).\n",
      "WARNING:tensorflow:Inconsistent references when loading the checkpoint into this object graph. For example, in the saved checkpoint object, `model.layer.weight` and `model.layer_copy.weight` reference the same variable, while in the current object these are two different variables. The referenced variables are:(<keras.layers.convolutional.Conv1D object at 0x00000260E3BECAF0> and <keras.layers.core.activation.Activation object at 0x00000260E3BECD00>).\n",
      "WARNING:tensorflow:Inconsistent references when loading the checkpoint into this object graph. For example, in the saved checkpoint object, `model.layer.weight` and `model.layer_copy.weight` reference the same variable, while in the current object these are two different variables. The referenced variables are:(<keras.layers.convolutional.Conv1D object at 0x00000260E3BFC070> and <keras.layers.core.activation.Activation object at 0x00000260E3BF59A0>).\n",
      "WARNING:tensorflow:Inconsistent references when loading the checkpoint into this object graph. For example, in the saved checkpoint object, `model.layer.weight` and `model.layer_copy.weight` reference the same variable, while in the current object these are two different variables. The referenced variables are:(<keras.layers.convolutional.Conv1D object at 0x00000260E3C07580> and <keras.layers.core.activation.Activation object at 0x00000260E3C01EB0>).\n",
      "Model: \"sequential\"\n",
      "_________________________________________________________________\n",
      " Layer (type)                Output Shape              Param #   \n",
      "=================================================================\n",
      " tcn (TCN)                   (None, 64)                137536    \n",
      "                                                                 \n",
      " dropout (Dropout)           (None, 64)                0         \n",
      "                                                                 \n",
      " dense (Dense)               (None, 2)                 130       \n",
      "                                                                 \n",
      "=================================================================\n",
      "Total params: 137,666\n",
      "Trainable params: 137,666\n",
      "Non-trainable params: 0\n",
      "_________________________________________________________________\n",
      "3394/3394 [==============================] - 11s 3ms/step - loss: 207566.7969 - acc: 0.9917\n"
     ]
    },
    {
     "name": "stderr",
     "output_type": "stream",
     "text": [
      "C:\\Users\\Lenovo\\AppData\\Local\\Temp/ipykernel_12028/2399253946.py:86: RuntimeWarning: invalid value encountered in longlong_scalars\n",
      "  Precision.append(tp / (tp + fp))\n"
     ]
    },
    {
     "data": {
      "image/png": "[encoded data removed]",
      "text/plain": [
       "<Figure size 432x288 with 1 Axes>"
      ]
     },
     "metadata": {
      "needs_background": "light"
     },
     "output_type": "display_data"
    },
    {
     "name": "stdout",
     "output_type": "stream",
     "text": [
      "-------------load the model-----------------\n",
      "WARNING:tensorflow:Inconsistent references when loading the checkpoint into this object graph. For example, in the saved checkpoint object, `model.layer.weight` and `model.layer_copy.weight` reference the same variable, while in the current object these are two different variables. The referenced variables are:(<tcn.tcn.TCN object at 0x00000260E3640C10> and <keras.layers.core.dropout.Dropout object at 0x00000260E50108B0>).\n",
      "WARNING:tensorflow:Inconsistent references when loading the checkpoint into this object graph. For example, in the saved checkpoint object, `model.layer.weight` and `model.layer_copy.weight` reference the same variable, while in the current object these are two different variables. The referenced variables are:(<keras.layers.convolutional.Conv1D object at 0x00000260E366FEB0> and <keras.layers.core.activation.Activation object at 0x00000260E366F820>).\n",
      "WARNING:tensorflow:Inconsistent references when loading the checkpoint into this object graph. For example, in the saved checkpoint object, `model.layer.weight` and `model.layer_copy.weight` reference the same variable, while in the current object these are two different variables. The referenced variables are:(<keras.layers.convolutional.Conv1D object at 0x00000260E367F640> and <keras.layers.core.activation.Activation object at 0x00000260E367BF70>).\n",
      "WARNING:tensorflow:Inconsistent references when loading the checkpoint into this object graph. For example, in the saved checkpoint object, `model.layer.weight` and `model.layer_copy.weight` reference the same variable, while in the current object these are two different variables. The referenced variables are:(<keras.layers.convolutional.Conv1D object at 0x00000260E368EEE0> and <keras.layers.core.activation.Activation object at 0x00000260E368E850>).\n",
      "WARNING:tensorflow:Inconsistent references when loading the checkpoint into this object graph. For example, in the saved checkpoint object, `model.layer.weight` and `model.layer_copy.weight` reference the same variable, while in the current object these are two different variables. The referenced variables are:(<keras.layers.convolutional.Conv1D object at 0x00000260E36A0430> and <keras.layers.core.activation.Activation object at 0x00000260E3699D60>).\n",
      "WARNING:tensorflow:Inconsistent references when loading the checkpoint into this object graph. For example, in the saved checkpoint object, `model.layer.weight` and `model.layer_copy.weight` reference the same variable, while in the current object these are two different variables. The referenced variables are:(<keras.layers.convolutional.Conv1D object at 0x00000260E36AB970> and <keras.layers.core.activation.Activation object at 0x00000260E36A4F70>).\n",
      "WARNING:tensorflow:Inconsistent references when loading the checkpoint into this object graph. For example, in the saved checkpoint object, `model.layer.weight` and `model.layer_copy.weight` reference the same variable, while in the current object these are two different variables. The referenced variables are:(<keras.layers.convolutional.Conv1D object at 0x00000260E36B5E80> and <keras.layers.core.activation.Activation object at 0x00000260E36B57F0>).\n",
      "Model: \"sequential_1\"\n",
      "_________________________________________________________________\n",
      " Layer (type)                Output Shape              Param #   \n",
      "=================================================================\n",
      " tcn_1 (TCN)                 (None, 64)                137536    \n",
      "                                                                 \n",
      " dropout_1 (Dropout)         (None, 64)                0         \n",
      "                                                                 \n",
      " dense_1 (Dense)             (None, 2)                 130       \n",
      "                                                                 \n",
      "=================================================================\n",
      "Total params: 137,666\n",
      "Trainable params: 137,666\n",
      "Non-trainable params: 0\n",
      "_________________________________________________________________\n",
      "3394/3394 [==============================] - 12s 3ms/step - loss: 652291.5000 - acc: 0.9926\n"
     ]
    }
   ],
   "source": [
    "floder = KFold(n_splits=3,shuffle=False)\n",
    "reshaped_segments =np.asarray(segments,dtype=np.float32).reshape(-1,TIME_STEPS,FEATURES)\n",
    "labels=np.asarray(pd.get_dummies(labels),dtype=np.float32)#是利用pandas实现one hot encode的方式。\n",
    "LOSS=[]\n",
    "ACC=[]\n",
    "TN=[]\n",
    "FP=[]\n",
    "FN=[]\n",
    "TP=[]\n",
    "Accuracy=[]\n",
    "Precision=[]\n",
    "Recall=[]\n",
    "k_fold_num=0\n",
    "for train_index, test_index in floder.split(reshaped_segments):\n",
    "    k_fold_num +=1\n",
    "    X_train, X_test = reshaped_segments[train_index], reshaped_segments[test_index]\n",
    "    y_train, y_test = labels[train_index], labels[test_index]\n",
    "    plt.plot(train_index,y_train)\n",
    "    plt.plot(test_index,y_test)\n",
    "    plt.show()\n",
    "    #------------------------TCN--------------------------\n",
    "    model_TCN = tf.keras.models.Sequential([\n",
    "        TCN(input_shape=(X_train.shape[1],X_train.shape[2]),dilations=(1, 2,4,8,16,32)),\n",
    "        tf.keras.layers.Dropout(0.2),\n",
    "        tf.keras.layers.Dense(y_train.shape[1], activation='softmax')\n",
    "    ])\n",
    "    #---------------------model.compile--------------------------------------------------\n",
    "    model_TCN.compile(loss='binary_crossentropy',metrics=['acc'],optimizer='adam')\n",
    "    if(k_fold_num==1):\n",
    "        checkpoint_save_path1 =\"E:/Fall_Detection/Cogent/checkpoint/TCN_cogent1.ckpt\"\n",
    "        if os.path.exists(checkpoint_save_path1 + '.index'):\n",
    "            print('-------------load the model-----------------')\n",
    "            model_TCN.load_weights(checkpoint_save_path1)\n",
    "    if(k_fold_num==2):\n",
    "        checkpoint_save_path1 =\"E:/Fall_Detection/Cogent/checkpoint/TCN_cogent2.ckpt\"\n",
    "        if os.path.exists(checkpoint_save_path1 + '.index'):\n",
    "            print('-------------load the model-----------------')\n",
    "            model_TCN.load_weights(checkpoint_save_path1)\n",
    "    if(k_fold_num==3):\n",
    "        checkpoint_save_path1 = \"E:/Fall_Detection/Cogent/checkpoint/TCN_cogent3.ckpt\"\n",
    "        if os.path.exists(checkpoint_save_path1 + '.index'):\n",
    "            print('-------------load the model-----------------')\n",
    "            model_TCN.load_weights(checkpoint_save_path1)\n",
    "\n",
    "    model_checkpoint_callback = tf.keras.callbacks.ModelCheckpoint(\n",
    "        filepath=checkpoint_save_path1,\n",
    "        save_weights_only=True,\n",
    "        monitor='acc',\n",
    "        mode='max',\n",
    "        save_best_only=True)\n",
    "   # history_TCN=model_TCN.fit(X_train, y_train, epochs=32, batch_size=64, verbose=1,shuffle=True,callbacks=[model_checkpoint_callback])\n",
    "    model_TCN.summary()\n",
    "    loss1, acc1 = model_TCN.evaluate(X_test, y_test, verbose=1)\n",
    "    LOSS.append(loss1)\n",
    "    ACC.append(acc1)\n",
    "    y_pred_label=np.argmax(model_TCN.predict(X_test), axis=1)\n",
    "    y_test_label=np.argmax(y_test, axis=1)\n",
    "    #混淆矩阵\n",
    "    # C=confusion_matrix(y_test_label, y_pred_label)\n",
    "    # sns.heatmap(C, annot=True)\n",
    "    confusion_mat= confusion_matrix(y_test_label, y_pred_label)\n",
    "    disp = ConfusionMatrixDisplay(confusion_matrix=confusion_mat, display_labels=['ADL', 'Fall'])\n",
    "    disp.plot(\n",
    "        include_values=True,  # 混淆矩阵每个单元格上显示具体数值\n",
    "        cmap=plt.cm.Blues,\n",
    "        ax=None,  # 同上\n",
    "        xticks_rotation=\"horizontal\",  # 同上\n",
    "        values_format=\"d\"  # 显示的数值格式\n",
    "    )\n",
    "    title = \"Confusion matrix\"\n",
    "    disp.ax_.set_title(title)\n",
    "    if(k_fold_num==1):\n",
    "        plt.savefig('E:/Fall_Detection/Cogent/figure/k1-TCN-C.png',bbox_inches='tight')\n",
    "    if(k_fold_num==2):\n",
    "        plt.savefig('E:/Fall_Detection/Cogent/figure/k2-TCN-C.png',bbox_inches='tight')\n",
    "    if(k_fold_num==3):\n",
    "        plt.savefig('E:/Fall_Detection/Cogent/figure/k3-TCN-C.png',bbox_inches='tight')\n",
    "    plt.close()\n",
    "    # tn:将ADL预测为ADL  tp:将跌倒预测为跌倒  fp:将ADL预测为跌倒 1 fn：将跌倒预测为ADL\n",
    "    tn, fp, fn, tp = confusion_matrix(y_test_label, y_pred_label).ravel()\n",
    "    TN.append(tn)\n",
    "    FP.append(fp)\n",
    "    FN.append(fn)\n",
    "    TP.append(tp)\n",
    "    Accuracy.append((tp + tn) / (tp + tn + fp + fn))\n",
    "    Precision.append(tp / (tp + fp))\n",
    "    Recall.append(tp / (tp + fn))\n",
    "    "
   ]
  },
  {
   "cell_type": "code",
   "execution_count": null,
   "id": "a93b7aa4",
   "metadata": {},
   "outputs": [],
   "source": []
  }
 ],
 "metadata": {
  "kernelspec": {
   "display_name": "Python 3 (ipykernel)",
   "language": "python",
   "name": "python3"
  },
  "language_info": {
   "codemirror_mode": {
    "name": "ipython",
    "version": 3
   },
   "file_extension": ".py",
   "mimetype": "text/x-python",
   "name": "python",
   "nbconvert_exporter": "python",
   "pygments_lexer": "ipython3",
   "version": "3.9.7"
  }
 },
 "nbformat": 4,
 "nbformat_minor": 5
}
